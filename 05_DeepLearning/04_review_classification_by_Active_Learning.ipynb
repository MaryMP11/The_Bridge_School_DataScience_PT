{
  "nbformat": 4,
  "nbformat_minor": 0,
  "metadata": {
    "colab": {
      "name": "02_review_classification_by_Active_Learning",
      "provenance": []
    },
    "kernelspec": {
      "name": "python3",
      "display_name": "Python 3"
    },
    "language_info": {
      "name": "python"
    },
    "accelerator": "GPU"
  },
  "cells": [
    {
      "cell_type": "markdown",
      "source": [
        "# Introducción\n",
        "\n",
        "With the growth of data-centric Machine Learning, Active Learning has grown in popularity amongst businesses and researchers. Active Learning seeks to progressively train ML models so that the resultant model requires lesser amount of training data to achieve competitive scores.\n",
        "\n",
        "The structure of an Active Learning pipeline involves a classifier and an oracle. The oracle is an annotator that cleans, selects, labels the data, and feeds it to the model when required. The oracle is a trained individual or a group of individuals that ensure consistency in labeling of new data.\n",
        "\n",
        "The process starts with annotating a small subset of the full dataset and training an initial model. The best model checkpoint is saved and then tested on a balanced test set. The test set must be carefully sampled because the full training process will be dependent on it. Once we have the initial evaluation scores, the oracle is tasked with labeling more samples; the number of data points to be sampled is usually determined by the business requirements. After that, the newly sampled data is added to the training set, and the training procedure repeats. This cycle continues until either an acceptable score is reached or some other business metric is met.\n",
        "\n",
        "This tutorial provides a basic demonstration of how Active Learning works by demonstrating a ratio-based (least confidence) sampling strategy that results in lower overall false positive and negative rates when compared to a model trained on the entire dataset. This sampling falls under the domain of uncertanity sampling, in which new datasets are sampled based on the uncertanity that the model outputs for the corresponding label. In our example, we compare our model's false positive and false negative rates and annotate the new data based on their ratio.\n",
        "\n",
        "Some other sampling techniques include:\n",
        "\n",
        "Committee sampling: Using multiple models to vote for the best data points to be sampled\n",
        "Entropy reduction: Sampling according to an entropy threshold, selecting more of the samples that produce the highest entropy score.\n",
        "Minimum margin based sampling: Selects data points closest to the decision boundary"
      ],
      "metadata": {
        "id": "ivfUwthfWPbs"
      }
    },
    {
      "cell_type": "code",
      "execution_count": null,
      "metadata": {
        "id": "xTF6wyPaWGay"
      },
      "outputs": [],
      "source": [
        "# importamos las librerías\n",
        "import tensorflow_datasets as tfds\n",
        "import tensorflow as tf\n",
        "from tensorflow import keras\n",
        "from tensorflow.keras import layers\n",
        "import matplotlib.pyplot as plt\n",
        "import re\n",
        "import string\n",
        "\n",
        "tfds.disable_progress_bar()"
      ]
    },
    {
      "cell_type": "code",
      "source": [
        "# Carga y preprocesado de los datos\n",
        "dataset = tfds.load(\n",
        "    \"imdb_reviews\",\n",
        "    split=\"train + test\",\n",
        "    as_supervised=True,\n",
        "    batch_size=-1,\n",
        "    shuffle_files=False,\n",
        ")\n",
        "reviews, labels = tfds.as_numpy(dataset)\n",
        "print(\"Total reviews :\", reviews.shape[0])"
      ],
      "metadata": {
        "colab": {
          "base_uri": "https://localhost:8080/"
        },
        "id": "ujm7IIcHXFMQ",
        "outputId": "97bbb2fb-2185-4d6b-ea14-f066ce9ca5c0"
      },
      "execution_count": null,
      "outputs": [
        {
          "output_type": "stream",
          "name": "stdout",
          "text": [
            "\u001b[1mDownloading and preparing dataset imdb_reviews/plain_text/1.0.0 (download: 80.23 MiB, generated: Unknown size, total: 80.23 MiB) to /root/tensorflow_datasets/imdb_reviews/plain_text/1.0.0...\u001b[0m\n",
            "Shuffling and writing examples to /root/tensorflow_datasets/imdb_reviews/plain_text/1.0.0.incompleteXBM2GT/imdb_reviews-train.tfrecord\n",
            "Shuffling and writing examples to /root/tensorflow_datasets/imdb_reviews/plain_text/1.0.0.incompleteXBM2GT/imdb_reviews-test.tfrecord\n",
            "Shuffling and writing examples to /root/tensorflow_datasets/imdb_reviews/plain_text/1.0.0.incompleteXBM2GT/imdb_reviews-unsupervised.tfrecord\n"
          ]
        },
        {
          "output_type": "stream",
          "name": "stderr",
          "text": [
            "WARNING:absl:Dataset is using deprecated text encoder API which will be removed soon. Please use the plain_text version of the dataset and migrate to `tensorflow_text`.\n"
          ]
        },
        {
          "output_type": "stream",
          "name": "stdout",
          "text": [
            "\u001b[1mDataset imdb_reviews downloaded and prepared to /root/tensorflow_datasets/imdb_reviews/plain_text/1.0.0. Subsequent calls will reuse this data.\u001b[0m\n",
            "WARNING:tensorflow:From /usr/local/lib/python3.7/dist-packages/tensorflow_datasets/core/dataset_builder.py:598: get_single_element (from tensorflow.python.data.experimental.ops.get_single_element) is deprecated and will be removed in a future version.\n",
            "Instructions for updating:\n",
            "Use `tf.data.Dataset.get_single_element()`.\n"
          ]
        },
        {
          "output_type": "stream",
          "name": "stderr",
          "text": [
            "WARNING:tensorflow:From /usr/local/lib/python3.7/dist-packages/tensorflow_datasets/core/dataset_builder.py:598: get_single_element (from tensorflow.python.data.experimental.ops.get_single_element) is deprecated and will be removed in a future version.\n",
            "Instructions for updating:\n",
            "Use `tf.data.Dataset.get_single_element()`.\n"
          ]
        },
        {
          "output_type": "stream",
          "name": "stdout",
          "text": [
            "Total reviews : 50000\n"
          ]
        }
      ]
    },
    {
      "cell_type": "code",
      "source": [
        "# Active Learning comienza con un etiquetado de pocos datos.\n",
        "val_split = 2500\n",
        "test_split = 2500\n",
        "train_split = 7500\n",
        "\n",
        "# Separamos las muestras positivas y negativas\n",
        "x_positive, y_positive = reviews[labels == 1], labels[labels == 1]\n",
        "x_negative, y_negative = reviews[labels == 0], labels[labels == 0]"
      ],
      "metadata": {
        "id": "HcY5UGXTXw8H"
      },
      "execution_count": null,
      "outputs": []
    },
    {
      "cell_type": "code",
      "source": [
        "# Creamos el conjutno train, val, test\n",
        "x_val, y_val = (\n",
        "    tf.concat((x_positive[:val_split], x_negative[:val_split]), 0),\n",
        "    tf.concat((y_positive[:val_split], y_negative[:val_split]), 0),\n",
        ")\n",
        "x_test, y_test = (\n",
        "    tf.concat(\n",
        "        (\n",
        "            x_positive[val_split : val_split + test_split],\n",
        "            x_negative[val_split : val_split + test_split],\n",
        "        ),\n",
        "        0,\n",
        "    ),\n",
        "    tf.concat(\n",
        "        (\n",
        "            y_positive[val_split : val_split + test_split],\n",
        "            y_negative[val_split : val_split + test_split],\n",
        "        ),\n",
        "        0,\n",
        "    ),\n",
        ")\n",
        "x_train, y_train = (\n",
        "    tf.concat(\n",
        "        (\n",
        "            x_positive[val_split + test_split : val_split + test_split + train_split],\n",
        "            x_negative[val_split + test_split : val_split + test_split + train_split],\n",
        "        ),\n",
        "        0,\n",
        "    ),\n",
        "    tf.concat(\n",
        "        (\n",
        "            y_positive[val_split + test_split : val_split + test_split + train_split],\n",
        "            y_negative[val_split + test_split : val_split + test_split + train_split],\n",
        "        ),\n",
        "        0,\n",
        "    ),\n",
        ")\n"
      ],
      "metadata": {
        "id": "jH7-UH7sYJxD"
      },
      "execution_count": null,
      "outputs": []
    },
    {
      "cell_type": "code",
      "source": [
        "# La parte restante la guardamos por separado\n",
        "# Remaining pool of samples are stored separately. These are only labeled as and when required\n",
        "x_pool_positive, y_pool_positive = (\n",
        "    x_positive[val_split + test_split + train_split :],\n",
        "    y_positive[val_split + test_split + train_split :],\n",
        ")\n",
        "x_pool_negative, y_pool_negative = (\n",
        "    x_negative[val_split + test_split + train_split :],\n",
        "    y_negative[val_split + test_split + train_split :],\n",
        ")"
      ],
      "metadata": {
        "id": "aJvqDUKuY3h8"
      },
      "execution_count": null,
      "outputs": []
    },
    {
      "cell_type": "code",
      "source": [
        "# Creating TF Datasets for faster prefetching and parallelization\n",
        "train_dataset = tf.data.Dataset.from_tensor_slices((x_train, y_train))\n",
        "val_dataset = tf.data.Dataset.from_tensor_slices((x_val, y_val))\n",
        "test_dataset = tf.data.Dataset.from_tensor_slices((x_test, y_test))\n",
        "\n",
        "pool_negatives = tf.data.Dataset.from_tensor_slices(\n",
        "    (x_pool_negative, y_pool_negative)\n",
        ")\n",
        "pool_positives = tf.data.Dataset.from_tensor_slices(\n",
        "    (x_pool_positive, y_pool_positive)\n",
        ")\n",
        "\n",
        "print(f\"Initial training set size: {len(train_dataset)}\")\n",
        "print(f\"Validation set size: {len(val_dataset)}\")\n",
        "print(f\"Testing set size: {len(test_dataset)}\")\n",
        "print(f\"Unlabeled negative pool: {len(pool_negatives)}\")\n",
        "print(f\"Unlabeled positive pool: {len(pool_positives)}\")\n"
      ],
      "metadata": {
        "colab": {
          "base_uri": "https://localhost:8080/"
        },
        "id": "AiChOQLwZCde",
        "outputId": "697f178e-d153-42ae-b294-7c2673d7c77d"
      },
      "execution_count": null,
      "outputs": [
        {
          "output_type": "stream",
          "name": "stdout",
          "text": [
            "Initial training set size: 15000\n",
            "Validation set size: 5000\n",
            "Testing set size: 5000\n",
            "Unlabeled negative pool: 12500\n",
            "Unlabeled positive pool: 12500\n"
          ]
        }
      ]
    },
    {
      "cell_type": "markdown",
      "source": [
        "# Paso de procesado y limpieza"
      ],
      "metadata": {
        "id": "EKZnq-26ZT8h"
      }
    },
    {
      "cell_type": "code",
      "source": [
        "def custom_standardization(input_data):\n",
        "    lowercase = tf.strings.lower(input_data)\n",
        "    stripped_html = tf.strings.regex_replace(lowercase, \"<br />\", \" \")\n",
        "    return tf.strings.regex_replace(\n",
        "        stripped_html, f\"[{re.escape(string.punctuation)}]\", \"\"\n",
        "    )\n",
        "\n",
        "\n",
        "vectorizer = layers.TextVectorization(\n",
        "    3000, standardize=custom_standardization, output_sequence_length=150\n",
        ")\n",
        "# Adapting the dataset\n",
        "vectorizer.adapt(\n",
        "    train_dataset.map(lambda x, y: x, num_parallel_calls=tf.data.AUTOTUNE).batch(256)\n",
        ")"
      ],
      "metadata": {
        "id": "EawJMhNOZXHy"
      },
      "execution_count": null,
      "outputs": []
    },
    {
      "cell_type": "code",
      "source": [
        "# Aplicamos la vectorización\n",
        "def vectorize_text(text, label):\n",
        "    text = vectorizer(text)\n",
        "    return text, label\n",
        "\n",
        "\n",
        "train_dataset = train_dataset.map(\n",
        "    vectorize_text, num_parallel_calls=tf.data.AUTOTUNE\n",
        ").prefetch(tf.data.AUTOTUNE)\n",
        "pool_negatives = pool_negatives.map(vectorize_text, num_parallel_calls=tf.data.AUTOTUNE)\n",
        "pool_positives = pool_positives.map(vectorize_text, num_parallel_calls=tf.data.AUTOTUNE)\n",
        "\n",
        "val_dataset = val_dataset.batch(256).map(\n",
        "    vectorize_text, num_parallel_calls=tf.data.AUTOTUNE\n",
        ")\n",
        "test_dataset = test_dataset.batch(256).map(\n",
        "    vectorize_text, num_parallel_calls=tf.data.AUTOTUNE\n",
        ")"
      ],
      "metadata": {
        "id": "5LaUVh0MZbIA"
      },
      "execution_count": null,
      "outputs": []
    },
    {
      "cell_type": "markdown",
      "source": [
        "# Ajuste de hyperparámetros Helper Functions"
      ],
      "metadata": {
        "id": "iE20jQ3eZn3R"
      }
    },
    {
      "cell_type": "code",
      "source": [
        "# Helper function for merging new history objects with older ones\n",
        "def append_history(losses, val_losses, accuracy, val_accuracy, history):\n",
        "    losses = losses + history.history[\"loss\"]\n",
        "    val_losses = val_losses + history.history[\"val_loss\"]\n",
        "    accuracy = accuracy + history.history[\"binary_accuracy\"]\n",
        "    val_accuracy = val_accuracy + history.history[\"val_binary_accuracy\"]\n",
        "    return losses, val_losses, accuracy, val_accuracy\n",
        "\n",
        "\n",
        "# Plotter function\n",
        "def plot_history(losses, val_losses, accuracies, val_accuracies):\n",
        "    plt.plot(losses)\n",
        "    plt.plot(val_losses)\n",
        "    plt.legend([\"train_loss\", \"val_loss\"])\n",
        "    plt.xlabel(\"Epochs\")\n",
        "    plt.ylabel(\"Loss\")\n",
        "    plt.show()\n",
        "\n",
        "    plt.plot(accuracies)\n",
        "    plt.plot(val_accuracies)\n",
        "    plt.legend([\"train_accuracy\", \"val_accuracy\"])\n",
        "    plt.xlabel(\"Epochs\")\n",
        "    plt.ylabel(\"Accuracy\")\n",
        "    plt.show()"
      ],
      "metadata": {
        "id": "tJGHK_35Zrpl"
      },
      "execution_count": null,
      "outputs": []
    },
    {
      "cell_type": "markdown",
      "source": [
        "# Creación del modelo de LSTM model."
      ],
      "metadata": {
        "id": "O-SNjUvGZ23P"
      }
    },
    {
      "cell_type": "code",
      "source": [
        "def create_model():\n",
        "  model = keras.models.Sequential(\n",
        "      [\n",
        "       layers.Input(shape=(150,)),\n",
        "       layers.Embedding(input_dim=300, output_dim=128),\n",
        "       layers.Bidirectional(layers.LSTM(32, return_sequences=True)),\n",
        "       layers.GlobalMaxPool1D(),\n",
        "       layers.Dense(20, activation='relu'),\n",
        "       layers.Dropout(0.5),\n",
        "       layers.Dense(1, activation='sigmoid'),\n",
        "      ]\n",
        "  )\n",
        "  model.summary()\n",
        "  return model"
      ],
      "metadata": {
        "id": "WD0BI9dBZ7OE"
      },
      "execution_count": null,
      "outputs": []
    },
    {
      "cell_type": "markdown",
      "source": [
        "# Train del modelo. Se utilizan 40,000 muestras etiquetadas"
      ],
      "metadata": {
        "id": "F8yyxNika-7a"
      }
    },
    {
      "cell_type": "code",
      "source": [
        "def train_full_model(full_train_dataset, val_dataset, test_dataset):\n",
        "    model = create_model()\n",
        "    model.compile(\n",
        "        loss=\"binary_crossentropy\",\n",
        "        optimizer=\"rmsprop\",\n",
        "        metrics=[\n",
        "            keras.metrics.BinaryAccuracy(),\n",
        "            keras.metrics.FalseNegatives(),\n",
        "            keras.metrics.FalsePositives(),\n",
        "        ],\n",
        "    )\n",
        "\n",
        "    # We will save the best model at every epoch and load the best one for evaluation on the test set\n",
        "    history = model.fit(\n",
        "        full_train_dataset.batch(256),\n",
        "        epochs=25,\n",
        "        validation_data=val_dataset,\n",
        "        callbacks=[\n",
        "            keras.callbacks.EarlyStopping(patience=4, verbose=1),\n",
        "            keras.callbacks.ModelCheckpoint(\n",
        "                \"FullModelCheckpoint.h5\", verbose=1, save_best_only=True\n",
        "            ),\n",
        "        ],\n",
        "    )\n",
        "\n",
        "    # Plot history\n",
        "    plot_history(\n",
        "        history.history[\"loss\"],\n",
        "        history.history[\"val_loss\"],\n",
        "        history.history[\"binary_accuracy\"],\n",
        "        history.history[\"val_binary_accuracy\"],\n",
        "    )\n",
        "\n",
        "    # Loading the best checkpoint\n",
        "    model = keras.models.load_model(\"FullModelCheckpoint.h5\")\n",
        "\n",
        "    print(\"-\" * 100)\n",
        "    print(\n",
        "        \"Test set evaluation: \",\n",
        "        model.evaluate(test_dataset, verbose=0, return_dict=True),\n",
        "    )\n",
        "    print(\"-\" * 100)\n",
        "    return model\n",
        "\n",
        "\n",
        "# Sampling the full train dataset to train on\n",
        "full_train_dataset = (\n",
        "    train_dataset.concatenate(pool_positives)\n",
        "    .concatenate(pool_negatives)\n",
        "    .cache()\n",
        "    .shuffle(20000)\n",
        ")\n",
        "\n",
        "# Training the full model\n",
        "full_dataset_model = train_full_model(full_train_dataset, val_dataset, test_dataset)"
      ],
      "metadata": {
        "colab": {
          "base_uri": "https://localhost:8080/",
          "height": 1000
        },
        "id": "Q-jtq26TbC4S",
        "outputId": "a064261f-c1db-4970-b737-2d49b567d88d"
      },
      "execution_count": null,
      "outputs": [
        {
          "output_type": "stream",
          "name": "stdout",
          "text": [
            "Model: \"sequential_1\"\n",
            "_________________________________________________________________\n",
            " Layer (type)                Output Shape              Param #   \n",
            "=================================================================\n",
            " embedding_1 (Embedding)     (None, 150, 128)          38400     \n",
            "                                                                 \n",
            " bidirectional_1 (Bidirectio  (None, 150, 64)          41216     \n",
            " nal)                                                            \n",
            "                                                                 \n",
            " global_max_pooling1d_1 (Glo  (None, 64)               0         \n",
            " balMaxPooling1D)                                                \n",
            "                                                                 \n",
            " dense_2 (Dense)             (None, 20)                1300      \n",
            "                                                                 \n",
            " dropout_1 (Dropout)         (None, 20)                0         \n",
            "                                                                 \n",
            " dense_3 (Dense)             (None, 1)                 21        \n",
            "                                                                 \n",
            "=================================================================\n",
            "Total params: 80,937\n",
            "Trainable params: 80,937\n",
            "Non-trainable params: 0\n",
            "_________________________________________________________________\n",
            "Epoch 1/25\n",
            "157/157 [==============================] - ETA: 0s - loss: 0.5970 - binary_accuracy: 0.6988 - false_negatives_1: 4140.0000 - false_positives_1: 7908.0000\n",
            "Epoch 00001: val_loss improved from inf to 0.53197, saving model to FullModelCheckpoint.h5\n",
            "157/157 [==============================] - 25s 111ms/step - loss: 0.5970 - binary_accuracy: 0.6988 - false_negatives_1: 4140.0000 - false_positives_1: 7908.0000 - val_loss: 0.5320 - val_binary_accuracy: 0.7372 - val_false_negatives_1: 1029.0000 - val_false_positives_1: 285.0000\n",
            "Epoch 2/25\n",
            "157/157 [==============================] - ETA: 0s - loss: 0.5179 - binary_accuracy: 0.7620 - false_negatives_1: 4714.0000 - false_positives_1: 4807.0000\n",
            "Epoch 00002: val_loss improved from 0.53197 to 0.50842, saving model to FullModelCheckpoint.h5\n",
            "157/157 [==============================] - 12s 73ms/step - loss: 0.5179 - binary_accuracy: 0.7620 - false_negatives_1: 4714.0000 - false_positives_1: 4807.0000 - val_loss: 0.5084 - val_binary_accuracy: 0.7478 - val_false_negatives_1: 908.0000 - val_false_positives_1: 353.0000\n",
            "Epoch 3/25\n",
            "157/157 [==============================] - ETA: 0s - loss: 0.5010 - binary_accuracy: 0.7708 - false_negatives_1: 4447.0000 - false_positives_1: 4721.0000\n",
            "Epoch 00003: val_loss improved from 0.50842 to 0.49671, saving model to FullModelCheckpoint.h5\n",
            "157/157 [==============================] - 12s 75ms/step - loss: 0.5010 - binary_accuracy: 0.7708 - false_negatives_1: 4447.0000 - false_positives_1: 4721.0000 - val_loss: 0.4967 - val_binary_accuracy: 0.7552 - val_false_negatives_1: 819.0000 - val_false_positives_1: 405.0000\n",
            "Epoch 4/25\n",
            "157/157 [==============================] - ETA: 0s - loss: 0.4838 - binary_accuracy: 0.7774 - false_negatives_1: 4337.0000 - false_positives_1: 4569.0000\n",
            "Epoch 00004: val_loss improved from 0.49671 to 0.48598, saving model to FullModelCheckpoint.h5\n",
            "157/157 [==============================] - 11s 72ms/step - loss: 0.4838 - binary_accuracy: 0.7774 - false_negatives_1: 4337.0000 - false_positives_1: 4569.0000 - val_loss: 0.4860 - val_binary_accuracy: 0.7604 - val_false_negatives_1: 759.0000 - val_false_positives_1: 439.0000\n",
            "Epoch 5/25\n",
            "157/157 [==============================] - ETA: 0s - loss: 0.4774 - binary_accuracy: 0.7782 - false_negatives_1: 4374.0000 - false_positives_1: 4497.0000\n",
            "Epoch 00005: val_loss did not improve from 0.48598\n",
            "157/157 [==============================] - 11s 72ms/step - loss: 0.4774 - binary_accuracy: 0.7782 - false_negatives_1: 4374.0000 - false_positives_1: 4497.0000 - val_loss: 0.4882 - val_binary_accuracy: 0.7680 - val_false_negatives_1: 516.0000 - val_false_positives_1: 644.0000\n",
            "Epoch 6/25\n",
            "157/157 [==============================] - ETA: 0s - loss: 0.4719 - binary_accuracy: 0.7843 - false_negatives_1: 4173.0000 - false_positives_1: 4456.0000\n",
            "Epoch 00006: val_loss improved from 0.48598 to 0.48286, saving model to FullModelCheckpoint.h5\n",
            "157/157 [==============================] - 12s 76ms/step - loss: 0.4719 - binary_accuracy: 0.7843 - false_negatives_1: 4173.0000 - false_positives_1: 4456.0000 - val_loss: 0.4829 - val_binary_accuracy: 0.7614 - val_false_negatives_1: 426.0000 - val_false_positives_1: 767.0000\n",
            "Epoch 7/25\n",
            "157/157 [==============================] - ETA: 0s - loss: 0.4655 - binary_accuracy: 0.7843 - false_negatives_1: 4292.0000 - false_positives_1: 4336.0000\n",
            "Epoch 00007: val_loss did not improve from 0.48286\n",
            "157/157 [==============================] - 11s 71ms/step - loss: 0.4655 - binary_accuracy: 0.7843 - false_negatives_1: 4292.0000 - false_positives_1: 4336.0000 - val_loss: 0.5053 - val_binary_accuracy: 0.7486 - val_false_negatives_1: 985.0000 - val_false_positives_1: 272.0000\n",
            "Epoch 8/25\n",
            "157/157 [==============================] - ETA: 0s - loss: 0.4550 - binary_accuracy: 0.7931 - false_negatives_1: 4082.0000 - false_positives_1: 4195.0000\n",
            "Epoch 00008: val_loss did not improve from 0.48286\n",
            "157/157 [==============================] - 11s 70ms/step - loss: 0.4550 - binary_accuracy: 0.7931 - false_negatives_1: 4082.0000 - false_positives_1: 4195.0000 - val_loss: 0.5308 - val_binary_accuracy: 0.7402 - val_false_negatives_1: 1091.0000 - val_false_positives_1: 208.0000\n",
            "Epoch 9/25\n",
            "157/157 [==============================] - ETA: 0s - loss: 0.4503 - binary_accuracy: 0.7969 - false_negatives_1: 4112.0000 - false_positives_1: 4012.0000\n",
            "Epoch 00009: val_loss improved from 0.48286 to 0.48107, saving model to FullModelCheckpoint.h5\n",
            "157/157 [==============================] - 11s 70ms/step - loss: 0.4503 - binary_accuracy: 0.7969 - false_negatives_1: 4112.0000 - false_positives_1: 4012.0000 - val_loss: 0.4811 - val_binary_accuracy: 0.7636 - val_false_negatives_1: 888.0000 - val_false_positives_1: 294.0000\n",
            "Epoch 10/25\n",
            "157/157 [==============================] - ETA: 0s - loss: 0.4434 - binary_accuracy: 0.7966 - false_negatives_1: 4090.0000 - false_positives_1: 4045.0000\n",
            "Epoch 00010: val_loss improved from 0.48107 to 0.46651, saving model to FullModelCheckpoint.h5\n",
            "157/157 [==============================] - 11s 69ms/step - loss: 0.4434 - binary_accuracy: 0.7966 - false_negatives_1: 4090.0000 - false_positives_1: 4045.0000 - val_loss: 0.4665 - val_binary_accuracy: 0.7704 - val_false_negatives_1: 816.0000 - val_false_positives_1: 332.0000\n",
            "Epoch 11/25\n",
            "156/157 [============================>.] - ETA: 0s - loss: 0.4376 - binary_accuracy: 0.8032 - false_negatives_1: 3915.0000 - false_positives_1: 3943.0000\n",
            "Epoch 00011: val_loss did not improve from 0.46651\n",
            "157/157 [==============================] - 12s 74ms/step - loss: 0.4374 - binary_accuracy: 0.8033 - false_negatives_1: 3921.0000 - false_positives_1: 3948.0000 - val_loss: 0.4872 - val_binary_accuracy: 0.7654 - val_false_negatives_1: 855.0000 - val_false_positives_1: 318.0000\n",
            "Epoch 12/25\n",
            "157/157 [==============================] - ETA: 0s - loss: 0.4312 - binary_accuracy: 0.8047 - false_negatives_1: 3969.0000 - false_positives_1: 3843.0000\n",
            "Epoch 00012: val_loss improved from 0.46651 to 0.45796, saving model to FullModelCheckpoint.h5\n",
            "157/157 [==============================] - 11s 67ms/step - loss: 0.4312 - binary_accuracy: 0.8047 - false_negatives_1: 3969.0000 - false_positives_1: 3843.0000 - val_loss: 0.4580 - val_binary_accuracy: 0.7758 - val_false_negatives_1: 764.0000 - val_false_positives_1: 357.0000\n",
            "Epoch 13/25\n",
            "157/157 [==============================] - ETA: 0s - loss: 0.4267 - binary_accuracy: 0.8061 - false_negatives_1: 3917.0000 - false_positives_1: 3838.0000\n",
            "Epoch 00013: val_loss did not improve from 0.45796\n",
            "157/157 [==============================] - 12s 74ms/step - loss: 0.4267 - binary_accuracy: 0.8061 - false_negatives_1: 3917.0000 - false_positives_1: 3838.0000 - val_loss: 0.4646 - val_binary_accuracy: 0.7676 - val_false_negatives_1: 876.0000 - val_false_positives_1: 286.0000\n",
            "Epoch 14/25\n",
            "157/157 [==============================] - ETA: 0s - loss: 0.4218 - binary_accuracy: 0.8086 - false_negatives_1: 3925.0000 - false_positives_1: 3730.0000\n",
            "Epoch 00014: val_loss did not improve from 0.45796\n",
            "157/157 [==============================] - 11s 69ms/step - loss: 0.4218 - binary_accuracy: 0.8086 - false_negatives_1: 3925.0000 - false_positives_1: 3730.0000 - val_loss: 0.5383 - val_binary_accuracy: 0.7426 - val_false_negatives_1: 1111.0000 - val_false_positives_1: 176.0000\n",
            "Epoch 15/25\n",
            "156/157 [============================>.] - ETA: 0s - loss: 0.4188 - binary_accuracy: 0.8138 - false_negatives_1: 3777.0000 - false_positives_1: 3660.0000\n",
            "Epoch 00015: val_loss did not improve from 0.45796\n",
            "157/157 [==============================] - 10s 64ms/step - loss: 0.4190 - binary_accuracy: 0.8137 - false_negatives_1: 3783.0000 - false_positives_1: 3669.0000 - val_loss: 0.4650 - val_binary_accuracy: 0.7776 - val_false_negatives_1: 802.0000 - val_false_positives_1: 310.0000\n",
            "Epoch 16/25\n",
            "157/157 [==============================] - ETA: 0s - loss: 0.4125 - binary_accuracy: 0.8153 - false_negatives_1: 3653.0000 - false_positives_1: 3734.0000\n",
            "Epoch 00016: val_loss did not improve from 0.45796\n",
            "157/157 [==============================] - 10s 64ms/step - loss: 0.4125 - binary_accuracy: 0.8153 - false_negatives_1: 3653.0000 - false_positives_1: 3734.0000 - val_loss: 0.4735 - val_binary_accuracy: 0.7730 - val_false_negatives_1: 861.0000 - val_false_positives_1: 274.0000\n",
            "Epoch 00016: early stopping\n"
          ]
        },
        {
          "output_type": "display_data",
          "data": {
            "image/png": "[encoded data removed]",
            "text/plain": [
              "<Figure size 432x288 with 1 Axes>"
            ]
          },
          "metadata": {
            "needs_background": "light"
          }
        },
        {
          "output_type": "display_data",
          "data": {
            "image/png": "[encoded data removed]",
            "text/plain": [
              "<Figure size 432x288 with 1 Axes>"
            ]
          },
          "metadata": {
            "needs_background": "light"
          }
        },
        {
          "output_type": "stream",
          "name": "stdout",
          "text": [
            "----------------------------------------------------------------------------------------------------\n",
            "Test set evaluation:  {'loss': 0.4677579998970032, 'binary_accuracy': 0.7689999938011169, 'false_negatives_1': 811.0, 'false_positives_1': 344.0}\n",
            "----------------------------------------------------------------------------------------------------\n"
          ]
        }
      ]
    }
  ]
}
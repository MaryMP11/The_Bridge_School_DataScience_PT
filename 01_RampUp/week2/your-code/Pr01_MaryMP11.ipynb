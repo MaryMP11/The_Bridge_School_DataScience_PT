{
  "nbformat": 4,
  "nbformat_minor": 0,
  "metadata": {
    "colab": {
      "name": "Pr01_MaryMP11.ipynb",
      "provenance": [],
      "collapsed_sections": []
    },
    "kernelspec": {
      "name": "python3",
      "display_name": "Python 3"
    },
    "language_info": {
      "name": "python"
    }
  },
  "cells": [
    {
      "cell_type": "code",
      "metadata": {
        "colab": {
          "base_uri": "https://localhost:8080/"
        },
        "id": "asFa99vg-Xhu",
        "outputId": "f5c99da2-47ab-45c3-ff08-2ab75eadbef5"
      },
      "source": [
        "well_height = 125\n",
        "daily_advance = 30\n",
        "night_retreat = 20\n",
        "accumulated_distance = 0\n",
        "days_accum = 0\n",
        "\n",
        "while accumulated_distance < well_height:\n",
        "  days_accum += 1\n",
        "  accumulated_distance += daily_advance - night_retreat\n",
        "print (\"Día: \",days_accum, \"Avance: \",accumulated_distance, \"cm\")"
      ],
      "execution_count": null,
      "outputs": [
        {
          "output_type": "stream",
          "text": [
            "Día:  13 Avance:  130 cm\n"
          ],
          "name": "stdout"
        }
      ]
    },
    {
      "cell_type": "code",
      "metadata": {
        "colab": {
          "base_uri": "https://localhost:8080/"
        },
        "id": "udYEtuTC_AtI",
        "outputId": "3bb592db-3bfb-40a3-e848-425fdd8688b7"
      },
      "source": [
        "# La distancia recorrida viene dada por una lista\n",
        "advance_cm =[30,21,33,77,44,45,23,45,12,34,55]\n",
        "print(len(advance_cm))\n",
        "print(max(advance_cm))\n",
        "print(min(advance_cm))\n",
        "num = sum(advance_cm)\n",
        "den = len(advance_cm)\n",
        "avg =  num / den\n",
        "print(avg)\n",
        "import numpy as np\n",
        "print (np.std(advance_cm))"
      ],
      "execution_count": null,
      "outputs": [
        {
          "output_type": "stream",
          "text": [
            "11\n",
            "77\n",
            "12\n",
            "38.09090909090909\n",
            "17.159437082600803\n"
          ],
          "name": "stdout"
        }
      ]
    }
  ]
}
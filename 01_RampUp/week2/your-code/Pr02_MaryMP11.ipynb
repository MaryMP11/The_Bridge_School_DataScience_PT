{
  "nbformat": 4,
  "nbformat_minor": 0,
  "metadata": {
    "colab": {
      "name": "Pr02_MaryMP11.ipynb",
      "provenance": [],
      "collapsed_sections": []
    },
    "kernelspec": {
      "name": "python3",
      "display_name": "Python 3"
    },
    "language_info": {
      "name": "python"
    }
  },
  "cells": [
    {
      "cell_type": "code",
      "metadata": {
        "colab": {
          "base_uri": "https://localhost:8080/",
          "height": 134
        },
        "id": "K2NHB8U3G0Xu",
        "outputId": "ff163162-7c58-403a-e76e-ca5ab9b9cc43"
      },
      "source": [
        "gandalf = [10,11,13,30,22,11,10,33,22,22]\n",
        "saruman = [23,66,12,43,12,10,44,23,12,17]\n",
        "gandalf_gana = 0\n",
        "saruman_gana = 0\n",
        "empate = 0\n",
        "hechizos = 10\n",
        "for num in gandalf, saruman:\n",
        "  if gandalf > saruman:\n",
        "    gandald gana +=1\n",
        "  else saruman > gandalf:\n",
        "    saruman gana += 1\n",
        "print (\"Gandalf gana: \",gandalf gana)\n",
        "print (\"Saruman gana: \",saruman gana)\n"
      ],
      "execution_count": null,
      "outputs": [
        {
          "output_type": "error",
          "ename": "SyntaxError",
          "evalue": "ignored",
          "traceback": [
            "\u001b[0;36m  File \u001b[0;32m\"<ipython-input-1-a440ad5e8ca7>\"\u001b[0;36m, line \u001b[0;32m9\u001b[0m\n\u001b[0;31m    gandald gana +=1\u001b[0m\n\u001b[0m               ^\u001b[0m\n\u001b[0;31mSyntaxError\u001b[0m\u001b[0;31m:\u001b[0m invalid syntax\n"
          ]
        }
      ]
    }
  ]
}